{
  "nbformat": 4,
  "nbformat_minor": 0,
  "metadata": {
    "colab": {
      "name": "Untitled13.ipynb",
      "provenance": [],
      "authorship_tag": "ABX9TyNDHp3uHEduHt+xpURzcdKB",
      "include_colab_link": true
    },
    "kernelspec": {
      "name": "python3",
      "display_name": "Python 3"
    },
    "language_info": {
      "name": "python"
    }
  },
  "cells": [
    {
      "cell_type": "markdown",
      "metadata": {
        "id": "view-in-github",
        "colab_type": "text"
      },
      "source": [
        "<a href=\"https://colab.research.google.com/github/Buuuuli/AIPI540_Individual_Project/blob/main/data_pipeline.ipynb\" target=\"_parent\"><img src=\"https://colab.research.google.com/assets/colab-badge.svg\" alt=\"Open In Colab\"/></a>"
      ]
    },
    {
      "cell_type": "code",
      "execution_count": null,
      "metadata": {
        "id": "eQFans8hpPtc"
      },
      "outputs": [],
      "source": [
        "def data_pipeline(data):\n",
        "\n",
        "  batch_size = 16\n",
        "\n",
        "  # set transformer\n",
        "  trans = transforms.Compose([#transforms.ToPILImage(),\n",
        "                            transforms.Resize((224, 224)),\n",
        "                            transforms.ToTensor(),\n",
        "                            transforms.Normalize([0.485, 0.456, 0.406], [0.229, 0.224, 0.225])])\n",
        "  n= trans(Image.open(data))\n",
        "\n",
        "  test_loader = DataLoader(n,batch_size=batch_size, shuffle=False)\n",
        "\n",
        "  return test_loader\n",
        "  \n"
      ]
    }
  ]
}
