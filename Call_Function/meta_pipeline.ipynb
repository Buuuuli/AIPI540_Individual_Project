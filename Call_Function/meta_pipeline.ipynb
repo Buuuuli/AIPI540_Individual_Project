{
  "nbformat": 4,
  "nbformat_minor": 0,
  "metadata": {
    "colab": {
      "name": "Untitled13.ipynb",
      "provenance": [],
      "authorship_tag": "ABX9TyMJFWn6ATTU7nUvBDItYn6J",
      "include_colab_link": true
    },
    "kernelspec": {
      "name": "python3",
      "display_name": "Python 3"
    },
    "language_info": {
      "name": "python"
    }
  },
  "cells": [
    {
      "cell_type": "markdown",
      "metadata": {
        "id": "view-in-github",
        "colab_type": "text"
      },
      "source": [
        "<a href=\"https://colab.research.google.com/github/Buuuuli/AIPI540_Individual_Project/blob/main/Call_Function/meta_pipeline.ipynb\" target=\"_parent\"><img src=\"https://colab.research.google.com/assets/colab-badge.svg\" alt=\"Open In Colab\"/></a>"
      ]
    },
    {
      "cell_type": "code",
      "execution_count": null,
      "metadata": {
        "id": "eQFans8hpPtc"
      },
      "outputs": [],
      "source": [
        "def meta_pipeline(data):\n",
        "  \n",
        "\n",
        "  \n"
      ]
    }
  ]
}